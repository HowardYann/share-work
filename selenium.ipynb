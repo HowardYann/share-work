{
 "cells": [
  {
   "cell_type": "code",
   "execution_count": 1,
   "metadata": {},
   "outputs": [],
   "source": [
    "from selenium import webdriver\n",
    "from selenium.webdriver.common.by import By\n",
    "from selenium.webdriver.support.ui import WebDriverWait\n",
    "from selenium.webdriver.support import expected_conditions as EC\n",
    "import time"
   ]
  },
  {
   "cell_type": "code",
   "execution_count": 19,
   "metadata": {},
   "outputs": [],
   "source": [
    "\n",
    "driver = webdriver.Chrome()\n",
    "driver.get(\"https://forms.office.com/Pages/ResponsePage.aspx?id=DQSIkWdsW0yxEjajBLZtrQAAAAAAAAAAAAO__QGA__xUN1c1WkpKNkYwQ1ZZMDlTRkVCR1VaUFY5QS4u\")\n",
    "\n",
    " \n",
    "try:\n",
    "    element = WebDriverWait(driver,60).until(\n",
    "        EC.presence_of_element_located((By.XPATH, \"//button[@data-automation-id='submitButton']\"))\n",
    "    )\n",
    "finally:\n",
    "    temp = {\"邮箱\":'test'\n",
    "            ,\"时间\":'2024/11/01'}\n",
    "    for question_text,answer_text in temp.items():\n",
    "        question_element = driver.find_element(By.XPATH,f\"//span[@class='text-format-content ' and contains(text(),'{question_text}')]\")\n",
    "        ancestor_element = question_element.find_element(By.XPATH,f\"./ancestor::div[@data-automation-id='questionItem']\")\n",
    "        answer_element = ancestor_element.find_element(By.XPATH,f\".//input\")\n",
    "        answer_element.send_keys(answer_text)\n",
    "\n",
    "driver.quit()\n",
    "        "
   ]
  },
  {
   "cell_type": "code",
   "execution_count": 19,
   "metadata": {},
   "outputs": [],
   "source": [
    "driver.quit()"
   ]
  }
 ],
 "metadata": {
  "kernelspec": {
   "display_name": "streamlit_learning",
   "language": "python",
   "name": "python3"
  },
  "language_info": {
   "codemirror_mode": {
    "name": "ipython",
    "version": 3
   },
   "file_extension": ".py",
   "mimetype": "text/x-python",
   "name": "python",
   "nbconvert_exporter": "python",
   "pygments_lexer": "ipython3",
   "version": "3.12.5"
  }
 },
 "nbformat": 4,
 "nbformat_minor": 2
}
